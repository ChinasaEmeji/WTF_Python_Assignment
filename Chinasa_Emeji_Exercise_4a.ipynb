{
 "cells": [
  {
   "cell_type": "markdown",
   "id": "c7d30c61",
   "metadata": {},
   "source": [
    "#### Write a program to produce the following output using for loop\n",
    "+----+\n",
    "\\    /\n",
    "/    \\\n",
    "\\    /\n",
    "/    \\\n",
    "\\    /\n",
    "/    \\\n",
    "+----+"
   ]
  },
  {
   "cell_type": "code",
   "execution_count": 1,
   "id": "408829d3",
   "metadata": {},
   "outputs": [
    {
     "name": "stdout",
     "output_type": "stream",
     "text": [
      "+----+\n",
      "\\    /\n",
      "/    \\\n",
      "\\    /\n",
      "/    \\\n",
      "\\    /\n",
      "/    \\\n",
      "+----+\n"
     ]
    }
   ],
   "source": [
    "for i in range(5):\n",
    "    if i == 0 or i == 4:\n",
    "        print(\"+----+\")\n",
    "    else:\n",
    "        print(\"\\\\    /\")\n",
    "        print(\"/    \\\\\")"
   ]
  },
  {
   "cell_type": "markdown",
   "id": "7d49a24b",
   "metadata": {},
   "source": [
    "#### 2. Write a program to produce the following output using for loop\n",
    "**********\n",
    "**********\n",
    "**********\n",
    "**********\n",
    "**********"
   ]
  },
  {
   "cell_type": "code",
   "execution_count": 1,
   "id": "e0b45ea9",
   "metadata": {},
   "outputs": [
    {
     "name": "stdout",
     "output_type": "stream",
     "text": [
      "**********\n",
      "**********\n",
      "**********\n",
      "**********\n",
      "**********\n"
     ]
    }
   ],
   "source": [
    "for j in range(5):\n",
    "    print(\"**********\")"
   ]
  },
  {
   "cell_type": "markdown",
   "id": "64863cd4",
   "metadata": {},
   "source": [
    "#### 3. Complete the code for the following for loop:\n",
    "for in range(1,7):\n",
    " //your code here\n",
    "so that it prints the following numbers, one per line:"
   ]
  },
  {
   "cell_type": "code",
   "execution_count": 4,
   "id": "bc3bf187",
   "metadata": {},
   "outputs": [
    {
     "name": "stdout",
     "output_type": "stream",
     "text": [
      "1\n",
      "2\n",
      "3\n",
      "4\n",
      "5\n",
      "6\n"
     ]
    }
   ],
   "source": [
    "for a in range(1,7):\n",
    "    print (a)"
   ]
  },
  {
   "cell_type": "code",
   "execution_count": 5,
   "id": "7affe2b8",
   "metadata": {},
   "outputs": [
    {
     "name": "stdout",
     "output_type": "stream",
     "text": [
      "2\n",
      "4\n",
      "6\n",
      "8\n",
      "10\n",
      "12\n"
     ]
    }
   ],
   "source": [
    "for i in range(2,13,2):\n",
    "    print (i)"
   ]
  },
  {
   "cell_type": "code",
   "execution_count": 6,
   "id": "1b069f29",
   "metadata": {},
   "outputs": [
    {
     "name": "stdout",
     "output_type": "stream",
     "text": [
      "4\n",
      "19\n",
      "34\n",
      "49\n",
      "64\n",
      "79\n"
     ]
    }
   ],
   "source": [
    "for i in range(4,80,15):\n",
    "    print (i)"
   ]
  },
  {
   "cell_type": "code",
   "execution_count": 8,
   "id": "d6703e6f",
   "metadata": {},
   "outputs": [
    {
     "name": "stdout",
     "output_type": "stream",
     "text": [
      "30\n",
      "20\n",
      "10\n",
      "0\n",
      "-10\n",
      "-20\n"
     ]
    }
   ],
   "source": [
    "for i in range(30,-21,-10):\n",
    "    print (i)"
   ]
  },
  {
   "cell_type": "code",
   "execution_count": 9,
   "id": "4bede0a3",
   "metadata": {},
   "outputs": [
    {
     "name": "stdout",
     "output_type": "stream",
     "text": [
      "-7\n",
      "-3\n",
      "1\n",
      "5\n",
      "9\n",
      "13\n"
     ]
    }
   ],
   "source": [
    "for i in range(-7,14,4):\n",
    "    print (i)"
   ]
  },
  {
   "cell_type": "code",
   "execution_count": 14,
   "id": "2a7e1c3a",
   "metadata": {},
   "outputs": [
    {
     "name": "stdout",
     "output_type": "stream",
     "text": [
      "97\n",
      "94\n",
      "91\n",
      "88\n",
      "85\n",
      "82\n"
     ]
    }
   ],
   "source": [
    "for i in range(97,81,-3):\n",
    "    print (i)"
   ]
  },
  {
   "cell_type": "code",
   "execution_count": 13,
   "id": "26ca28a3",
   "metadata": {},
   "outputs": [
    {
     "name": "stdout",
     "output_type": "stream",
     "text": [
      "-4\n",
      "14\n",
      "32\n",
      "50\n",
      "68\n",
      "86\n"
     ]
    }
   ],
   "source": [
    "for i in range(-4,87,18):\n",
    "    print (i)"
   ]
  },
  {
   "cell_type": "markdown",
   "id": "494d695b",
   "metadata": {},
   "source": [
    "#### 4. Write a program to produce the following output using for loops. Then use a class constant to make it possible to change the number of lines in the figure.\n",
    "1\n",
    "22\n",
    "333\n",
    "4444\n",
    "55555\n",
    "666666\n",
    "7777777"
   ]
  },
  {
   "cell_type": "code",
   "execution_count": 3,
   "id": "297c31b3",
   "metadata": {},
   "outputs": [
    {
     "name": "stdout",
     "output_type": "stream",
     "text": [
      "\n",
      "1\n",
      "22\n",
      "333\n",
      "4444\n",
      "55555\n",
      "666666\n",
      "7777777\n"
     ]
    }
   ],
   "source": [
    "for i in range(8):\n",
    "    print (str(i)*i)"
   ]
  },
  {
   "cell_type": "markdown",
   "id": "4c146c32",
   "metadata": {},
   "source": [
    "#### 5. Write a method named pay that accepts two parameters: a real number for a TA's salary, and an integer for the number of hours the TA worked this week. The method should return how much money to pay the TA. For example, the call pay(5.50, 6) should return 33.0. \n",
    "##### The TA should receive \"overtime\" pay of 1 ½ normal salary for any hours above 8. For example, the call pay(4.00, 11) should return (4.00 * 8) + (6.00 * 3) or 50.0."
   ]
  },
  {
   "cell_type": "code",
   "execution_count": 10,
   "id": "0110aaa0",
   "metadata": {},
   "outputs": [
    {
     "data": {
      "text/plain": [
       "50.0"
      ]
     },
     "execution_count": 10,
     "metadata": {},
     "output_type": "execute_result"
    }
   ],
   "source": [
    "def pay(sal, hrs):\n",
    "    if hrs <= 8:\n",
    "       total_pay = (sal*hrs)\n",
    "    elif hrs > 8:\n",
    "      total_pay = ((sal * 8) + ((hrs -  8) * (1.5*sal)))\n",
    "    return total_pay\n",
    "\n",
    "pay(4.00, 11)\n",
    "    "
   ]
  },
  {
   "cell_type": "markdown",
   "id": "a50561ce",
   "metadata": {},
   "source": [
    "#### 6. Consider the following method for converting milliseconds into days:\n",
    "// converts milliseconds to days\n",
    "def toDays(millis):\n",
    " return millis / 1000.0 / 60.0 / 60.0 / 24.0\n",
    "\n",
    "#### Write a similar method named area that takes as a parameter the radius of a circle and that returns the area of the circle. For example, the call area(2.0); should return 12.566370614359172. \n",
    "\n",
    "##### Recall that area can be computed as π times the radius squared and that Python has a constant called math.pi"
   ]
  },
  {
   "cell_type": "code",
   "execution_count": 14,
   "id": "180276f2",
   "metadata": {},
   "outputs": [
    {
     "data": {
      "text/plain": [
       "12.566370614359172"
      ]
     },
     "execution_count": 14,
     "metadata": {},
     "output_type": "execute_result"
    }
   ],
   "source": [
    "import math\n",
    "def area_of_circle(radius_of_circle):\n",
    "    areaCircle = (math.pi * (radius_of_circle**2))\n",
    "    return areaCircle\n",
    "\n",
    "# example\n",
    "area_of_circle(2.0)"
   ]
  },
  {
   "cell_type": "markdown",
   "id": "596133df",
   "metadata": {},
   "source": [
    "#### 7. Copy and paste the following code into pythons IDLE script environment.\n",
    " low = 1\n",
    " high = 1001\n",
    " sum = 0\n",
    " for i in range(low,high):\n",
    " sum += i\n",
    " \n",
    " print(\"sum = \" , sum)\n",
    " \n",
    "##### Modify the code to use a input to prompt the user for the values of lowand high. Below is a sample execution in which the user asks for the same values as in the original program (1 through 1000):\n",
    "\n",
    "low? 1\n",
    "high? 1001\n",
    "sum = 500500\n",
    "\n",
    "Below is an execution with different values for low and high:\n",
    "low? 300\n",
    "high? 5298\n",
    "sum = 13986903\n",
    "\n",
    "##### You should exactly reproduce this format."
   ]
  },
  {
   "cell_type": "code",
   "execution_count": 18,
   "id": "cea5f0d0",
   "metadata": {},
   "outputs": [
    {
     "name": "stdout",
     "output_type": "stream",
     "text": [
      "low? 300\n",
      "high? 5298\n",
      "sum =  13986903\n"
     ]
    }
   ],
   "source": [
    "low = int(input(\"low? \")) \n",
    "high = int(input(\"high? \"))\n",
    "sum = 0 \n",
    "for i in range(low,high): \n",
    "    sum += i\n",
    "\n",
    "print(\"sum = \" , sum)"
   ]
  },
  {
   "cell_type": "markdown",
   "id": "c401cb70",
   "metadata": {},
   "source": [
    "#### 8. Write a program using while loop that prompts the user for numbers until the user types 0, then outputs their sum"
   ]
  },
  {
   "cell_type": "code",
   "execution_count": 4,
   "id": "55af294d",
   "metadata": {},
   "outputs": [
    {
     "name": "stdout",
     "output_type": "stream",
     "text": [
      "Enter a number (or zero to exit): 3\n",
      "Enter a number (or zero to exit): 4\n",
      "Enter a number (or zero to exit): 6\n",
      "Enter a number (or zero to exit): 0\n",
      "sum of numbers:  13.0\n"
     ]
    }
   ],
   "source": [
    "# initialize sum to zero\n",
    "sum = 0\n",
    "# input prompt for the user to enter any number or zero to exit the loop\n",
    "num = float(input(\"Enter a number (or zero to exit): \"))\n",
    "sum = sum + num\n",
    "# while loop to implement the check for when the number is zero\n",
    "while num != 0:\n",
    "    num = float(input(\"Enter a number (or zero to exit): \"))\n",
    "    \n",
    "    if num == 0:\n",
    "        break\n",
    "        \n",
    "    sum = sum + num\n",
    "# output the computer sum of the numbers\n",
    "print(\"sum of numbers: \", sum)"
   ]
  },
  {
   "cell_type": "markdown",
   "id": "e4fb4444",
   "metadata": {},
   "source": [
    "#### 9. Write a program using while loop that prompts the user for numbers until the user types -1, then outputs their sum."
   ]
  },
  {
   "cell_type": "code",
   "execution_count": 5,
   "id": "11ab5bc9",
   "metadata": {},
   "outputs": [
    {
     "name": "stdout",
     "output_type": "stream",
     "text": [
      "Enter a number (or -1 to exit): 3\n",
      "Enter a number (or zero to exit): 4\n",
      "Enter a number (or zero to exit): 5\n",
      "Enter a number (or zero to exit): 6\n",
      "Enter a number (or zero to exit): -1\n",
      "sum of numbers:  18.0\n"
     ]
    }
   ],
   "source": [
    "# initialize sum to zero\n",
    "sum = 0\n",
    "# input prompt for the user to enter any number or -1 to exit the loop\n",
    "num = float(input(\"Enter a number (or -1 to exit): \"))\n",
    "sum = sum + num\n",
    "# while loop to implement the check for when the number is zero\n",
    "while num != -1:\n",
    "    num = float(input(\"Enter a number (or zero to exit): \"))\n",
    "    \n",
    "    if num == -1:\n",
    "        break\n",
    "        \n",
    "    sum = sum + num\n",
    "# output the computer sum of the numbers\n",
    "print(\"sum of numbers: \", sum)"
   ]
  },
  {
   "cell_type": "markdown",
   "id": "f5518cc6",
   "metadata": {},
   "source": [
    "#### 10. Write a method named repl that accepts a String and a number of repetitions as parameters and returns the String concatenated that many times. For example, the call repl(\"hello\", 3) returns \"hellohellohello\". If the number of repetitions is 0 or less, an empty string is returned."
   ]
  },
  {
   "cell_type": "code",
   "execution_count": 15,
   "id": "56371fb0",
   "metadata": {},
   "outputs": [
    {
     "name": "stdout",
     "output_type": "stream",
     "text": [
      "hellohellohello\n"
     ]
    }
   ],
   "source": [
    "def repl(text1, no_of_times):\n",
    "    \n",
    "        if no_of_times <= 0:\n",
    "            print (\"\")\n",
    "        else:\n",
    "            print (text1*no_of_times)\n",
    "        \n",
    "# example \n",
    "repl(\"hello\", 3)"
   ]
  },
  {
   "cell_type": "markdown",
   "id": "66c565b6",
   "metadata": {},
   "source": [
    "#### 11.  Write a method called printRange that accepts two integers as arguments and prints the sequence of numbers between the two arguments, separated by spaces. Print an increasing sequence if the first argument is smaller than the second; otherwise, print a decreasing sequence. If the two numbers are the same, that number should be printed by itself. Here are some sample calls to printRange: \n",
    "\n",
    "printRange(2, 7)\n",
    "printRange(19, 11)\n",
    "printRange(5, 5)\n",
    "\n",
    "##### The output produced should be the following: \n",
    "\n",
    "2 3 4 5 6 7 \n",
    "19 18 17 16 15 14 13 12 11 \n",
    "5"
   ]
  },
  {
   "cell_type": "code",
   "execution_count": 17,
   "id": "ae0b4217",
   "metadata": {},
   "outputs": [
    {
     "name": "stdout",
     "output_type": "stream",
     "text": [
      "2 3 4 5 6 7 "
     ]
    }
   ],
   "source": [
    "def printRange(num1, num2):\n",
    "    if num1 < num2:\n",
    "        # Print increasing sequence\n",
    "        for i in range(num1, num2 + 1):\n",
    "            print(i, end=' ')\n",
    "    elif num1 > num2:\n",
    "        # Print decreasing sequence\n",
    "        for i in range(num1, num2 - 1, -1):\n",
    "            print(i, end=' ')\n",
    "    else:\n",
    "        # Print the number itself if they are the same\n",
    "        print(num1)\n",
    "\n",
    "# example \n",
    "printRange(2, 7)"
   ]
  },
  {
   "cell_type": "markdown",
   "id": "a577aed8",
   "metadata": {},
   "source": [
    "#### 12. Write a method named smallestLargest that asks the user to enter numbers, then prints the smallest and largest of all the numbers typed in by the user. You may assume the user enters a valid number greater than 0 for the number of numbers to read. Here is an example dialogue: \n",
    "\n",
    "How many numbers do you want to enter? 4\n",
    "Number 1: 5\n",
    "Number 2: 11\n",
    "Number 3: -2\n",
    "Number 4: 3\n",
    "Smallest = -2\n",
    "Largest = 11"
   ]
  },
  {
   "cell_type": "code",
   "execution_count": 18,
   "id": "0fb005db",
   "metadata": {},
   "outputs": [
    {
     "name": "stdout",
     "output_type": "stream",
     "text": [
      "How many numbers do you want to enter? 4\n",
      "Number 1: 2\n",
      "Number 2: 3\n",
      "Number 3: 5\n",
      "Number 4: 8\n",
      "Smallest = 2.0\n",
      "Largest = 8.0\n"
     ]
    }
   ],
   "source": [
    "def smallestLargest():\n",
    "    # Get the number of numbers to read from the user\n",
    "    num_of_numbers = int(input(\"How many numbers do you want to enter? \"))\n",
    "    \n",
    "    # Initialize variables for smallest and largest\n",
    "    smallest = float('inf')\n",
    "    largest = float('-inf')\n",
    "    \n",
    "    # Loop to get input numbers and update smallest/largest\n",
    "    for i in range(1, num_of_numbers + 1):\n",
    "        num = float(input(f\"Number {i}: \"))\n",
    "        smallest = min(smallest, num)\n",
    "        largest = max(largest, num)\n",
    "    \n",
    "    # Print the smallest and largest\n",
    "    print(f\"Smallest = {smallest}\")\n",
    "    print(f\"Largest = {largest}\")\n",
    "\n",
    "# Call the method\n",
    "smallestLargest()\n"
   ]
  },
  {
   "cell_type": "markdown",
   "id": "fd3b2aee",
   "metadata": {},
   "source": [
    "#### 13. Write a method called printAverage that uses a sentinel loop to repeatedly prompt the user for numbers. Once the user types any number less than zero, the method should display the average of all nonnegative numbers typed. Display the average as a double. Here is a sample dialogue with the user:\n",
    "\n",
    "Type a number: 7\n",
    "Type a number: 4\n",
    "Type a number: 16\n",
    "Type a number: –4\n",
    "Average was 9.0\n",
    "\n",
    "#### If the first number that the user types is negative, do not print an average:\n",
    "Type a number: –2 "
   ]
  },
  {
   "cell_type": "code",
   "execution_count": 19,
   "id": "7b4621b4",
   "metadata": {},
   "outputs": [
    {
     "name": "stdout",
     "output_type": "stream",
     "text": [
      "Type a number: 2\n",
      "Type a number: 4\n",
      "Type a number: 5\n",
      "Type a number: 6\n",
      "Type a number: 7\n",
      "Type a number: 7\n",
      "Type a number: 0\n",
      "Type a number: -1\n",
      "Average was 4.4\n"
     ]
    }
   ],
   "source": [
    "def printAverage():\n",
    "    total = 0\n",
    "    count = 0\n",
    "    \n",
    "    while True:\n",
    "        num = float(input(\"Type a number: \"))\n",
    "        \n",
    "        if num < 0:\n",
    "            if count > 0:\n",
    "                average = total / count\n",
    "                print(f\"Average was {average:.1f}\")\n",
    "            else:\n",
    "                print(\"No nonnegative numbers entered.\")\n",
    "            break\n",
    "        \n",
    "        total += num\n",
    "        count += 1\n",
    "\n",
    "# Call the method\n",
    "printAverage()\n"
   ]
  },
  {
   "cell_type": "markdown",
   "id": "ef16f06a",
   "metadata": {},
   "source": [
    "#### 14. Write a method named numUnique that takes three integers as parameters and returns the number of unique integers among the three. For example, the call numUnique(18, 3, 4) should return 3 because the parameters have three different values. By contrast, the call numUnique(6, 7, 6)should return 2 because there are only two unique numbers among the three parameters: 6 and 7."
   ]
  },
  {
   "cell_type": "code",
   "execution_count": 20,
   "id": "d4f283a4",
   "metadata": {},
   "outputs": [
    {
     "name": "stdout",
     "output_type": "stream",
     "text": [
      "3\n",
      "2\n"
     ]
    }
   ],
   "source": [
    "def numUnique(num1, num2, num3):\n",
    "    unique_numbers = set([num1, num2, num3])\n",
    "    return len(unique_numbers)\n",
    "\n",
    "# Test examples\n",
    "result1 = numUnique(18, 3, 4)\n",
    "result2 = numUnique(6, 7, 6)\n",
    "\n",
    "print(result1)  # Output: 3\n",
    "print(result2)  # Output: 2"
   ]
  },
  {
   "cell_type": "markdown",
   "id": "0c6f58b4",
   "metadata": {},
   "source": [
    "#### 15.  A Random object generates pseudo-random numbers. Find out how to use the Random class and write a program that simulates rolling of two 6-sided dice until their combined result comes up as 7. One possible output can be seen as below:\n",
    " 2 + 4 = 6\n",
    "3 + 5 = 8\n",
    "5 + 6 = 11\n",
    "1 + 1 = 2\n",
    "4 + 3 = 7\n",
    "You won after 5 tries!"
   ]
  },
  {
   "cell_type": "code",
   "execution_count": 22,
   "id": "6963399b",
   "metadata": {},
   "outputs": [
    {
     "name": "stdout",
     "output_type": "stream",
     "text": [
      "5 + 6 = 11\n",
      "1 + 2 = 3\n",
      "1 + 3 = 4\n",
      "5 + 4 = 9\n",
      "3 + 3 = 6\n",
      "3 + 1 = 4\n",
      "4 + 2 = 6\n",
      "4 + 5 = 9\n",
      "6 + 4 = 10\n",
      "3 + 6 = 9\n",
      "4 + 1 = 5\n",
      "4 + 2 = 6\n",
      "4 + 5 = 9\n",
      "4 + 6 = 10\n",
      "4 + 5 = 9\n",
      "2 + 6 = 8\n",
      "4 + 5 = 9\n",
      "1 + 4 = 5\n",
      "2 + 1 = 3\n",
      "6 + 2 = 8\n",
      "4 + 4 = 8\n",
      "1 + 1 = 2\n",
      "3 + 2 = 5\n",
      "4 + 3 = 7\n",
      "You won after 24 tries!\n"
     ]
    }
   ],
   "source": [
    "import random\n",
    "\n",
    "def roll_dice():\n",
    "    return random.randint(1, 6)\n",
    "\n",
    "def simulate_dice_rolls():\n",
    "    tries = 0\n",
    "    while True:\n",
    "        dice1 = roll_dice()\n",
    "        dice2 = roll_dice()\n",
    "        total = dice1 + dice2\n",
    "        print(f\"{dice1} + {dice2} = {total}\")\n",
    "        \n",
    "        tries += 1\n",
    "        \n",
    "        if total == 7:\n",
    "            print(f\"You won after {tries} tries!\")\n",
    "            break\n",
    "\n",
    "# Run the simulation\n",
    "simulate_dice_rolls()"
   ]
  },
  {
   "cell_type": "code",
   "execution_count": null,
   "id": "5870e9b6",
   "metadata": {},
   "outputs": [],
   "source": []
  },
  {
   "cell_type": "code",
   "execution_count": null,
   "id": "f9e0c794",
   "metadata": {},
   "outputs": [],
   "source": []
  },
  {
   "cell_type": "code",
   "execution_count": null,
   "id": "a8acba20",
   "metadata": {},
   "outputs": [],
   "source": []
  },
  {
   "cell_type": "code",
   "execution_count": null,
   "id": "2ec71e18",
   "metadata": {},
   "outputs": [],
   "source": []
  },
  {
   "cell_type": "code",
   "execution_count": null,
   "id": "7b211097",
   "metadata": {},
   "outputs": [],
   "source": []
  },
  {
   "cell_type": "code",
   "execution_count": null,
   "id": "a0e9e41b",
   "metadata": {},
   "outputs": [],
   "source": []
  },
  {
   "cell_type": "code",
   "execution_count": null,
   "id": "f65dc44f",
   "metadata": {},
   "outputs": [],
   "source": []
  },
  {
   "cell_type": "code",
   "execution_count": null,
   "id": "498abe13",
   "metadata": {},
   "outputs": [],
   "source": []
  },
  {
   "cell_type": "code",
   "execution_count": null,
   "id": "46d67223",
   "metadata": {},
   "outputs": [],
   "source": []
  },
  {
   "cell_type": "code",
   "execution_count": null,
   "id": "49459747",
   "metadata": {},
   "outputs": [],
   "source": []
  }
 ],
 "metadata": {
  "kernelspec": {
   "display_name": "Python 3 (ipykernel)",
   "language": "python",
   "name": "python3"
  },
  "language_info": {
   "codemirror_mode": {
    "name": "ipython",
    "version": 3
   },
   "file_extension": ".py",
   "mimetype": "text/x-python",
   "name": "python",
   "nbconvert_exporter": "python",
   "pygments_lexer": "ipython3",
   "version": "3.9.7"
  }
 },
 "nbformat": 4,
 "nbformat_minor": 5
}
