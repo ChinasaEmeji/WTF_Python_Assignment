{
 "cells": [
  {
   "cell_type": "markdown",
   "id": "5e6c0f8c",
   "metadata": {},
   "source": [
    "#### 1. Write a program that finds the maximum value of the given list, assuming that the list contains at least one element. Try your program with the following array 2 4 7 4 23 5 1 4 8 9"
   ]
  },
  {
   "cell_type": "code",
   "execution_count": 1,
   "id": "0d292d79",
   "metadata": {},
   "outputs": [
    {
     "name": "stdout",
     "output_type": "stream",
     "text": [
      "The maximum number in the list is 23\n"
     ]
    }
   ],
   "source": [
    "eg_list = [2, 4, 7, 4, 23, 5, 1, 4, 8, 9]\n",
    "max_num = eg_list[0]\n",
    "for j in eg_list:\n",
    "    if j > max_num:\n",
    "        max_num = j\n",
    "        \n",
    "print(f\"The maximum number in the list is {max_num}\")"
   ]
  },
  {
   "cell_type": "markdown",
   "id": "1bf53de3",
   "metadata": {},
   "source": [
    "#### 2. Write a program that calculates the average value of the given list. Try your program with the following list 4 7 1 5 11 53 12 46 84 23"
   ]
  },
  {
   "cell_type": "code",
   "execution_count": 1,
   "id": "7cdf0b9a",
   "metadata": {},
   "outputs": [
    {
     "name": "stdout",
     "output_type": "stream",
     "text": [
      "average = 24.6\n"
     ]
    }
   ],
   "source": [
    "my_list = [4, 7, 1, 5, 11, 53, 12, 46, 84, 23]\n",
    "\n",
    "SumofList = 0\n",
    "for j in my_list:\n",
    "    SumofList = SumofList + j \n",
    "\n",
    "avg = SumofList/len(my_list)\n",
    "print(f\"average = {avg}\")"
   ]
  },
  {
   "cell_type": "markdown",
   "id": "599a2b89",
   "metadata": {},
   "source": [
    "#### 3. Write a program that prints the given list of integers in reverse order. Try your program with the following list 2 6 7 45 23 53 14 45 89 5"
   ]
  },
  {
   "cell_type": "code",
   "execution_count": 3,
   "id": "e1b4b706",
   "metadata": {},
   "outputs": [
    {
     "name": "stdout",
     "output_type": "stream",
     "text": [
      "The given list in reverse order =  [5, 89, 45, 14, 53, 23, 45, 7, 6, 2]\n"
     ]
    }
   ],
   "source": [
    "def reverse_order(list1):\n",
    "    rev_list = list1[::-1]\n",
    "    print(\"The given list in reverse order = \", rev_list)\n",
    "\n",
    "list1 = [2, 6, 7, 45, 23, 53, 14, 45, 89, 5]\n",
    "reverse_order(list1)\n"
   ]
  },
  {
   "cell_type": "markdown",
   "id": "6d84974e",
   "metadata": {},
   "source": [
    "#### 4. Write a program that accepts two lists of integers and prints true if each element in the first  list is less than the element at the same index in the second list. Your program should print false if the lists are not the same length.\n"
   ]
  },
  {
   "cell_type": "code",
   "execution_count": 4,
   "id": "9ad06b62",
   "metadata": {},
   "outputs": [
    {
     "name": "stdout",
     "output_type": "stream",
     "text": [
      "True\n"
     ]
    }
   ],
   "source": [
    "def lists_comparison(list_a, list_b):\n",
    "    if len(list_a) != len(list_b):\n",
    "        return False\n",
    "    \n",
    "    #Comparison of the lists\n",
    "    else:\n",
    "        for j in range(len(list_a)):\n",
    "            if list_a[j] < list_b[j]:\n",
    "                return True\n",
    "\n",
    "            else:\n",
    "                return False   \n",
    "         \n",
    "list_a  = [4, 100, 1, 5, 11, 53, 12, 46, 84, 23]\n",
    "list_b = [5, 89, 45, 14, 53, 23, 45, 7, 6, 2]\n",
    "\n",
    "result = lists_comparison(list_a, list_b)\n",
    "print(result)"
   ]
  },
  {
   "cell_type": "markdown",
   "id": "045231a4",
   "metadata": {},
   "source": [
    "#### 5. Write a program that accepts a list of integers and two indexes and swaps the elements at those indexes"
   ]
  },
  {
   "cell_type": "code",
   "execution_count": 3,
   "id": "287abb7d",
   "metadata": {},
   "outputs": [
    {
     "name": "stdout",
     "output_type": "stream",
     "text": [
      "enter the first list index2\n",
      "enter the second list index6\n"
     ]
    },
    {
     "data": {
      "text/plain": [
       "[4, 100, 12, 5, 11, 53, 1, 46, 84, 23]"
      ]
     },
     "execution_count": 3,
     "metadata": {},
     "output_type": "execute_result"
    }
   ],
   "source": [
    "def swap_list_elements(list_c, x, y):\n",
    "    # the original elements at the given indices\n",
    "    element_x = list_c[x]\n",
    "    element_y = list_c[y]\n",
    "    \n",
    "    # swap the list elements\n",
    "    list_c[x] = element_y\n",
    "    list_c[y] = element_x\n",
    "    \n",
    "    return list_c\n",
    "\n",
    "\n",
    "list_c  = [4, 100, 1, 5, 11, 53, 12, 46, 84, 23]\n",
    "\n",
    "x = int(input(\"enter the first list index\"))\n",
    "y = int(input(\"enter the second list index\"))\n",
    "\n",
    "swap_list_elements(list_c, x, y)\n",
    "\n"
   ]
  },
  {
   "cell_type": "markdown",
   "id": "6e6a2fc3",
   "metadata": {},
   "source": [
    "#### 6. Write a program that accepts two lists of integers and prints a new list containing all elements of the first list followed by all elements of the second."
   ]
  },
  {
   "cell_type": "code",
   "execution_count": 3,
   "id": "9316d9a8",
   "metadata": {},
   "outputs": [
    {
     "name": "stdout",
     "output_type": "stream",
     "text": [
      "Enter first list: 37,667,3,4,6,6\n",
      "Enter second list: 43,78,90,2\n",
      "Joined List: (37, 667, 3, 4, 6, 6, 43, 78, 90, 2)\n"
     ]
    }
   ],
   "source": [
    "# Joining of two lists together\n",
    "list_i = eval(input(\"Enter first list: \"))\n",
    "list_j = eval(input(\"Enter second list: \"))\n",
    "list_k = list_i + list_j #joining using the + cocatenate operator\n",
    "print(\"Joined List:\", list_k)"
   ]
  },
  {
   "cell_type": "markdown",
   "id": "c6b9aa1e",
   "metadata": {},
   "source": [
    "#### 7. Write a program that accepts a list of integers and an integer value as its parameters and prints the last index at which the value occurs in the list. The program should print –1 if the value is not found. For example, in the list [74, 85, 102, 99, 101, 85, 56], the last index of the value 85 is 5."
   ]
  },
  {
   "cell_type": "code",
   "execution_count": 8,
   "id": "b45efddf",
   "metadata": {},
   "outputs": [
    {
     "name": "stdout",
     "output_type": "stream",
     "text": [
      "The last index of 18 is -1\n"
     ]
    }
   ],
   "source": [
    "def last_index(list_x, val):\n",
    "    # Initialize the index to -1, assuming the value is not found\n",
    "    last_index = -1\n",
    "    \n",
    "    # Iterate through the list in reverse order\n",
    "    for y in range(len(list_x) - 1, -1, -1):\n",
    "        if list_x[y] == val:\n",
    "            # Update the last_index when the value is found\n",
    "            last_index = y\n",
    "            break  # Exit the loop once the last occurrence is found\n",
    "    \n",
    "    # Print the result\n",
    "    print(f\"The last index of {val} is {last_index}\")\n",
    "\n",
    "    \n",
    "list_x = [74, 85, 102, 99, 101, 85, 56]\n",
    "val = 18\n",
    "last_index(list_x, val)"
   ]
  },
  {
   "cell_type": "markdown",
   "id": "8e4e33d3",
   "metadata": {},
   "source": [
    "#### 8. Write a program that prints the range of values in a list of integers. The range is defined as 1 more than the difference between the maximum and minimum values in the list. For example, if a list contains the values [36, 12, 25, 19, 46, 31, 22], the program should return 35. You may assume that the list has at least one element."
   ]
  },
  {
   "cell_type": "code",
   "execution_count": 10,
   "id": "404c3eec",
   "metadata": {},
   "outputs": [
    {
     "name": "stdout",
     "output_type": "stream",
     "text": [
      "The range of the list plus 1 is: 35\n"
     ]
    }
   ],
   "source": [
    "def range_plus_one(listh):\n",
    "    # Calculate the range as 1 more than the difference between the maximum and minimum values\n",
    "    range_plus_1= max(listh) - min(listh) + 1\n",
    "    print(f\"The range of the list plus 1 is: {range_plus_1}\")\n",
    "\n",
    "\n",
    "listh = [36, 12, 25, 19, 46, 31, 22]\n",
    "range_plus_one(listh)"
   ]
  },
  {
   "cell_type": "markdown",
   "id": "7984d4cf",
   "metadata": {},
   "source": [
    "#### 9. Write a program that accepts a list of integers, a minimum value, and a maximum value and prints the count of how many elements from the list fall between the minimum and maximum (inclusive). For example, in the list [14, 1, 22, 17, 36, 7, -43, 5], for minimum value 4 and maximum value 17, there are four elements whose values fall between 4 and 17."
   ]
  },
  {
   "cell_type": "code",
   "execution_count": 11,
   "id": "3221a800",
   "metadata": {},
   "outputs": [
    {
     "name": "stdout",
     "output_type": "stream",
     "text": [
      "The count of elements between 4 and 17 (inclusive) is: 4\n"
     ]
    }
   ],
   "source": [
    "def count_elements_between(lst, minimum, maximum):\n",
    "    # Filter the elements that fall between the minimum and maximum (inclusive)\n",
    "    filtered_elements = [element for element in lst if minimum <= element <= maximum]\n",
    "    \n",
    "    # Calculate and print the count of filtered elements\n",
    "    count = len(filtered_elements)\n",
    "    print(f\"The count of elements between {minimum} and {maximum} (inclusive) is: {count}\")\n",
    "\n",
    "# Example usage\n",
    "input_list = [14, 1, 22, 17, 36, 7, -43, 5]\n",
    "min_value = 4\n",
    "max_value = 17\n",
    "count_elements_between(input_list, min_value, max_value)"
   ]
  },
  {
   "cell_type": "markdown",
   "id": "fe3f4bac",
   "metadata": {},
   "source": [
    "#### 10. Write a program that accepts a list of real numbers and prints true if the list is in sorted (nondecreasing) order and false otherwise. For example, if lists named list1 and list2 store [16.1, 12.3, 22.2, 14.4] and [1.5, 4.3, 7.0, 19.5, 25.1, 46.2] respectively, the program should print false for list1 and true for list2 respectively. Assume the list has at least one element. A one-element list is sorted"
   ]
  },
  {
   "cell_type": "code",
   "execution_count": 12,
   "id": "a3564955",
   "metadata": {},
   "outputs": [
    {
     "name": "stdout",
     "output_type": "stream",
     "text": [
      "Is list1 sorted?\n",
      "False\n",
      "Is list2 sorted?\n",
      "True\n"
     ]
    }
   ],
   "source": [
    "def is_sorted(lst):\n",
    "    # Check if the list is sorted (non-decreasing)\n",
    "    sorted_check = all(lst[i] <= lst[i + 1] for i in range(len(lst) - 1))\n",
    "    \n",
    "    # Print the result\n",
    "    print(sorted_check)\n",
    "\n",
    "\n",
    "list1 = [16.1, 12.3, 22.2, 14.4]\n",
    "list2 = [1.5, 4.3, 7.0, 19.5, 25.1, 46.2]\n",
    "\n",
    "print(\"Is list1 sorted?\")\n",
    "is_sorted(list1)\n",
    "\n",
    "print(\"Is list2 sorted?\")\n",
    "is_sorted(list2)"
   ]
  },
  {
   "cell_type": "code",
   "execution_count": null,
   "id": "8c173e83",
   "metadata": {},
   "outputs": [],
   "source": []
  },
  {
   "cell_type": "code",
   "execution_count": null,
   "id": "843ea92d",
   "metadata": {},
   "outputs": [],
   "source": []
  },
  {
   "cell_type": "code",
   "execution_count": null,
   "id": "41ea7f4d",
   "metadata": {},
   "outputs": [],
   "source": []
  },
  {
   "cell_type": "code",
   "execution_count": null,
   "id": "51da0c5d",
   "metadata": {},
   "outputs": [],
   "source": []
  },
  {
   "cell_type": "code",
   "execution_count": null,
   "id": "1c5d3d95",
   "metadata": {},
   "outputs": [],
   "source": []
  },
  {
   "cell_type": "code",
   "execution_count": null,
   "id": "bb713f41",
   "metadata": {},
   "outputs": [],
   "source": []
  },
  {
   "cell_type": "code",
   "execution_count": null,
   "id": "25600e38",
   "metadata": {},
   "outputs": [],
   "source": []
  },
  {
   "cell_type": "code",
   "execution_count": null,
   "id": "ee113d93",
   "metadata": {},
   "outputs": [],
   "source": []
  },
  {
   "cell_type": "code",
   "execution_count": null,
   "id": "40f2a742",
   "metadata": {},
   "outputs": [],
   "source": []
  },
  {
   "cell_type": "code",
   "execution_count": null,
   "id": "ed5abee5",
   "metadata": {},
   "outputs": [],
   "source": []
  },
  {
   "cell_type": "code",
   "execution_count": null,
   "id": "54971e91",
   "metadata": {},
   "outputs": [],
   "source": []
  },
  {
   "cell_type": "code",
   "execution_count": null,
   "id": "ed60cb81",
   "metadata": {},
   "outputs": [],
   "source": []
  },
  {
   "cell_type": "code",
   "execution_count": null,
   "id": "c30e3867",
   "metadata": {},
   "outputs": [],
   "source": []
  },
  {
   "cell_type": "code",
   "execution_count": null,
   "id": "6ea28489",
   "metadata": {},
   "outputs": [],
   "source": []
  },
  {
   "cell_type": "code",
   "execution_count": null,
   "id": "3e2f7fff",
   "metadata": {},
   "outputs": [],
   "source": []
  },
  {
   "cell_type": "code",
   "execution_count": null,
   "id": "db50d057",
   "metadata": {},
   "outputs": [],
   "source": []
  },
  {
   "cell_type": "code",
   "execution_count": null,
   "id": "81fabd0f",
   "metadata": {},
   "outputs": [],
   "source": []
  },
  {
   "cell_type": "code",
   "execution_count": null,
   "id": "69fcabf5",
   "metadata": {},
   "outputs": [],
   "source": []
  },
  {
   "cell_type": "code",
   "execution_count": null,
   "id": "b1520220",
   "metadata": {},
   "outputs": [],
   "source": []
  }
 ],
 "metadata": {
  "kernelspec": {
   "display_name": "Python 3 (ipykernel)",
   "language": "python",
   "name": "python3"
  },
  "language_info": {
   "codemirror_mode": {
    "name": "ipython",
    "version": 3
   },
   "file_extension": ".py",
   "mimetype": "text/x-python",
   "name": "python",
   "nbconvert_exporter": "python",
   "pygments_lexer": "ipython3",
   "version": "3.9.7"
  }
 },
 "nbformat": 4,
 "nbformat_minor": 5
}
